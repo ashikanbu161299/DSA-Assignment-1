{
 "cells": [
  {
   "cell_type": "code",
   "execution_count": 8,
   "id": "261271eb",
   "metadata": {},
   "outputs": [
    {
     "name": "stdout",
     "output_type": "stream",
     "text": [
      "[(2, 8), (5, 5)]\n"
     ]
    }
   ],
   "source": [
    "####  1.program to find all pairs of an integer array whose sum is equal to a given number\n",
    "\n",
    "array = [2,4,5,7,8,5]\n",
    "sum = 10\n",
    "def find_pairs(array,sum):\n",
    "    pairs = []\n",
    "    for i in range(len(array)):\n",
    "        for j in range(i+1, len(array)):\n",
    "            if array[i] + array[j] == sum:\n",
    "                pairs.append((array[i], array[j]))\n",
    "    return pairs\n",
    "pairs = find_pairs(array,sum)\n",
    "print(pairs) "
   ]
  },
  {
   "cell_type": "code",
   "execution_count": 41,
   "id": "68997857",
   "metadata": {},
   "outputs": [
    {
     "name": "stdout",
     "output_type": "stream",
     "text": [
      "[5, 4, 3, 2, 1]\n"
     ]
    }
   ],
   "source": [
    "#### 2.program to reverse an array in place? In place means you cannot create a new array. You have to update the original array.\n",
    "\n",
    "\n",
    "def reverse_array(array):\n",
    "    left, right = 0, len(array) - 1\n",
    "    while left < right:\n",
    "        array[left], array[right] = array[right], array[left]\n",
    "        left += 1\n",
    "        right -= 1\n",
    "\n",
    "array_num= [1, 2, 3, 4, 5]\n",
    "reverse_array(array_num)\n",
    "print(array)\n"
   ]
  },
  {
   "cell_type": "code",
   "execution_count": 16,
   "id": "8c3e33ba",
   "metadata": {},
   "outputs": [
    {
     "name": "stdout",
     "output_type": "stream",
     "text": [
      "The strings are rotations of each other.\n"
     ]
    }
   ],
   "source": [
    " ### 3.program to check if two strings are a rotation of each other\n",
    "    \n",
    "def rotation(s1, s2):\n",
    "    if len(s1) != len(s2):\n",
    "        return False\n",
    "    \n",
    "    s3 = s1 + s1\n",
    "    \n",
    "    if s2 in s3:\n",
    "        return True\n",
    "    else:\n",
    "        return False\n",
    "\n",
    "string1 = \"abcd\"\n",
    "string2 = \"cdab\"\n",
    "if is_rotation(string1, string2):\n",
    "    print(\"The strings are rotations of each other.\")\n",
    "else:\n",
    "    print(\"The strings are not rotations of each other.\")\n"
   ]
  },
  {
   "cell_type": "code",
   "execution_count": 24,
   "id": "4ef31e37",
   "metadata": {},
   "outputs": [
    {
     "name": "stdout",
     "output_type": "stream",
     "text": [
      "first non-repeated character is: e\n"
     ]
    }
   ],
   "source": [
    "### 4.program to print the first non-repeated character from a string\n",
    "\n",
    "def first_non_repeated_char(string):\n",
    "    char_counts = {}\n",
    "    \n",
    "    for char in string:\n",
    "        if char in char_counts:\n",
    "            char_counts[char] += 1\n",
    "        else:\n",
    "            char_counts[char] = 1\n",
    "    for char in string:\n",
    "        if char_counts[char] == 1:\n",
    "            return char\n",
    "    return None\n",
    "\n",
    "string = \"edyoda\"\n",
    "result = first_non_repeated_char(string)\n",
    "if result:\n",
    "    print(\"first non-repeated character is:\", result)\n",
    "else:\n",
    "    print(\"There are no non-repeated characters in the string.\")\n"
   ]
  },
  {
   "cell_type": "code",
   "execution_count": null,
   "id": "6b7c3c67",
   "metadata": {},
   "outputs": [],
   "source": [
    "### 5.Read about the Tower of Hanoi algorithm. Write a program to implement it.\n",
    "         The Tower of Hanoi is a classic problem in computer science that involves moving a stack of disks from one peg to another. The problem is typically stated as follows:\n",
    "There are three pegs (A, B, and C) and a stack of n disks on peg A, arranged in increasing size from top to bottom. The goal is to move the entire stack to peg C, while obeying the following rules:\n",
    "\n",
    "1.Only one disk can be moved at a time.\n",
    "2.Each move consists of taking the upper disk from one of the stacks and placing it on top of another stack or on an empty peg.\n",
    "3.No disk may be placed on top of a smaller disk.\n"
   ]
  },
  {
   "cell_type": "code",
   "execution_count": 39,
   "id": "27f76353",
   "metadata": {},
   "outputs": [
    {
     "name": "stdout",
     "output_type": "stream",
     "text": [
      "Move disk 1 from peg A to peg B\n",
      "Move disk 2 from peg A to peg C\n",
      "Move disk 1 from peg B to peg C\n"
     ]
    }
   ],
   "source": [
    "def tower_of_hanoi(n, source, auxiliary, destination):\n",
    "    if n == 1:\n",
    "        print(\"Move disk 1 from peg\", source, \"to peg\", destination)\n",
    "        return\n",
    "    \n",
    "    tower_of_hanoi(n-1, source, destination, auxiliary)\n",
    "    print(\"Move disk\", n, \"from peg\", source, \"to peg\", destination)\n",
    "    tower_of_hanoi(n-1, auxiliary, source, destination)\n",
    "n = 2\n",
    "tower_of_hanoi(n, 'A', 'B', 'C')\n"
   ]
  },
  {
   "cell_type": "code",
   "execution_count": null,
   "id": "55f858f8",
   "metadata": {},
   "outputs": [],
   "source": [
    "### 6.Read about infix, prefix, and postfix expressions. Write a program to convert postfix to prefix expression.\n",
    "\n",
    "\n",
    "Infix: The typical mathematical form of expression that we encounter generally is known as infix notation. In infix form, an operator is written in between two operands.\n",
    "Prefix: In prefix expression, an operator is written before its operands. This notation is also known as “Polish notation”.\n",
    "Postfix: In postfix expression, an operator is written after its operands. This notation is also known as “Reverse Polish notation”.\n"
   ]
  },
  {
   "cell_type": "code",
   "execution_count": 38,
   "id": "75886cc5",
   "metadata": {},
   "outputs": [
    {
     "name": "stdout",
     "output_type": "stream",
     "text": [
      "Prefix notation: + 3 4\n"
     ]
    }
   ],
   "source": [
    "def postfix_to_prefix(postfix):\n",
    "    stack = []\n",
    "    for token in postfix.split():\n",
    "        if token.isdigit():\n",
    "            stack.append(token)\n",
    "        else:\n",
    "            operand2 = stack.pop()\n",
    "            operand1 = stack.pop()\n",
    "            stack.append(token + \" \" + operand1 + \" \" + operand2)\n",
    "    return stack.pop()\n",
    "\n",
    "postfix = \"3 4 +\"\n",
    "prefix = postfix_to_prefix(postfix)\n",
    "print(\"Prefix notation:\", prefix)"
   ]
  },
  {
   "cell_type": "code",
   "execution_count": 40,
   "id": "6d837e6d",
   "metadata": {},
   "outputs": [
    {
     "name": "stdout",
     "output_type": "stream",
     "text": [
      "Infix notation: (3 + 4)\n"
     ]
    }
   ],
   "source": [
    "## 7. program to convert prefix expression to infix expression.\n",
    "\n",
    "def prefix_to_infix(prefix):\n",
    "    stack = []\n",
    "    for token in reversed(prefix.split()):\n",
    "        if token.isdigit():\n",
    "            stack.append(token)\n",
    "        else:\n",
    "            operand1 = stack.pop()\n",
    "            operand2 = stack.pop()\n",
    "            stack.append(\"(\" + operand1 + \" \" + token + \" \" + operand2 + \")\")\n",
    "    return stack.pop()\n",
    "\n",
    "prefix = \"+ 3 4\"\n",
    "infix = prefix_to_infix(prefix)\n",
    "print(\"Infix notation:\", infix)\n"
   ]
  },
  {
   "cell_type": "code",
   "execution_count": 42,
   "id": "6df810d0",
   "metadata": {},
   "outputs": [
    {
     "name": "stdout",
     "output_type": "stream",
     "text": [
      "All brackets are closed in code1\n",
      "Some brackets are not closed in code2\n"
     ]
    }
   ],
   "source": [
    "### 8.program to check if all the brackets are closed in a given code snippet.\n",
    "\n",
    "def check_brackets(code):\n",
    "    stack = []\n",
    "    for char in code:\n",
    "        if char in ['(', '[', '{']:\n",
    "            stack.append(char)\n",
    "        elif char in [')', ']', '}']:\n",
    "            if len(stack) == 0:\n",
    "                return False\n",
    "            elif char == ')' and stack[-1] != '(':\n",
    "                return False\n",
    "            elif char == ']' and stack[-1] != '[':\n",
    "                return False\n",
    "            elif char == '}' and stack[-1] != '{':\n",
    "                return False\n",
    "            else:\n",
    "                stack.pop()\n",
    "    return len(stack) == 0\n",
    "\n",
    "code1 = \"def foo():\\n    if (a + b) * c == d:\\n        print('Hello World!')\"\n",
    "code2 = \"def foo():\\n    if (a + b * c == d:\\n        print('Hello World!')\"\n",
    "if check_brackets(code1):\n",
    "    print(\"All brackets are closed in code1\")\n",
    "else:\n",
    "    print(\"Some brackets are not closed in code1\")\n",
    "if check_brackets(code2):\n",
    "    print(\"All brackets are closed in code2\")\n",
    "else:\n",
    "    print(\"Some brackets are not closed in code2\")\n"
   ]
  },
  {
   "cell_type": "code",
   "execution_count": 43,
   "id": "cb995831",
   "metadata": {},
   "outputs": [
    {
     "name": "stdout",
     "output_type": "stream",
     "text": [
      "Original stack: [1, 2, 3, 4, 5]\n",
      "Reversed stack: [5, 4, 3, 2, 1]\n"
     ]
    }
   ],
   "source": [
    "### 9. program to reverse a stack.\n",
    "def reverse_stack(stack):\n",
    "    if len(stack) == 0:\n",
    "        return\n",
    "    temp = stack.pop()\n",
    "    reverse_stack(stack)\n",
    "    insert_at_bottom(stack, temp)\n",
    "\n",
    "def insert_at_bottom(stack, item):\n",
    "    if len(stack) == 0:\n",
    "        stack.append(item)\n",
    "        return\n",
    "    temp = stack.pop()\n",
    "    insert_at_bottom(stack, item)\n",
    "    stack.append(temp)\n",
    "stack = [1, 2, 3, 4, 5]\n",
    "print(\"Original stack:\", stack)\n",
    "reverse_stack(stack)\n",
    "print(\"Reversed stack:\", stack)\n"
   ]
  },
  {
   "cell_type": "code",
   "execution_count": 46,
   "id": "77d94242",
   "metadata": {},
   "outputs": [
    {
     "name": "stdout",
     "output_type": "stream",
     "text": [
      "Smallest item: 1\n",
      "Smallest item: 2\n"
     ]
    }
   ],
   "source": [
    " ### 10.program to find the smallest number using a stack.\n",
    "class smallStack:\n",
    "    def __init__(self):\n",
    "        self.stack = []\n",
    "        self.min_stack = []\n",
    "\n",
    "    def push(self, item):\n",
    "        self.stack.append(item)\n",
    "        if len(self.min_stack) == 0 or item <= self.min_stack[-1]:\n",
    "            self.min_stack.append(item)\n",
    "\n",
    "    def pop(self):\n",
    "        if len(self.stack) == 0:\n",
    "            return None\n",
    "        item = self.stack.pop()\n",
    "        if item == self.min_stack[-1]:\n",
    "            self.min_stack.pop()\n",
    "        return item\n",
    "\n",
    "    def get_min(self):\n",
    "        if len(self.min_stack) == 0:\n",
    "            return None\n",
    "        return self.min_stack[-1]\n",
    "stack = smallStack()\n",
    "stack.push(3)\n",
    "stack.push(5)\n",
    "stack.push(2)\n",
    "stack.push(1)\n",
    "print(\"Smallest item:\", stack.get_min())\n",
    "stack.pop()\n",
    "print(\"Smallest item:\", stack.get_min())\n"
   ]
  },
  {
   "cell_type": "code",
   "execution_count": null,
   "id": "99b48310",
   "metadata": {},
   "outputs": [],
   "source": []
  }
 ],
 "metadata": {
  "kernelspec": {
   "display_name": "Python 3 (ipykernel)",
   "language": "python",
   "name": "python3"
  },
  "language_info": {
   "codemirror_mode": {
    "name": "ipython",
    "version": 3
   },
   "file_extension": ".py",
   "mimetype": "text/x-python",
   "name": "python",
   "nbconvert_exporter": "python",
   "pygments_lexer": "ipython3",
   "version": "3.9.13"
  }
 },
 "nbformat": 4,
 "nbformat_minor": 5
}
